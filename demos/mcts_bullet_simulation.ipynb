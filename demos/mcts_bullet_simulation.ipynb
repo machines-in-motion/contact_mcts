{
 "cells": [
  {
   "cell_type": "code",
   "execution_count": null,
   "metadata": {},
   "outputs": [],
   "source": [
    "%matplotlib inline\n",
    "%load_ext autoreload\n",
    "%autoreload 2"
   ]
  },
  {
   "cell_type": "code",
   "execution_count": null,
   "metadata": {},
   "outputs": [],
   "source": [
    "import os\n",
    "import pathlib\n",
    "project_path = pathlib.Path('.').absolute().parent\n",
    "python_path = project_path/'src'\n",
    "os.sys.path.insert(1, str(python_path))"
   ]
  },
  {
   "cell_type": "code",
   "execution_count": null,
   "metadata": {},
   "outputs": [],
   "source": [
    "from dotmap import DotMap\n",
    "import pybullet\n",
    "    \n",
    "import numpy as np\n",
    "import matplotlib.pyplot as plt\n",
    "import pinocchio as pin\n",
    "import pybullet"
   ]
  },
  {
   "cell_type": "code",
   "execution_count": null,
   "metadata": {},
   "outputs": [],
   "source": [
    "from cto.objects import Cube\n",
    "from cto.controllers import ImpedanceController\n",
    "from cto.envs.fingers import FingerDoubleAndBox\n",
    "from cto.trajectory import generate_ee_motion\n",
    "from cto.mcts.pvmcts import PolicyValueMCTS\n",
    "from cto.mcts.problems import BiconvexProblem\n",
    "from cto.params import get_default_params, update_params\n",
    "from cto.contact_modes import construct_contact_plan\n",
    "from robot_properties_nyu_finger.config import NYUFingerDoubleConfig0, NYUFingerDoubleConfig1"
   ]
  },
  {
   "cell_type": "markdown",
   "metadata": {},
   "source": [
    "## Set up and solve the problem"
   ]
  },
  {
   "cell_type": "code",
   "execution_count": null,
   "metadata": {},
   "outputs": [],
   "source": [
    "object_urdf = str(python_path/'cto'/'envs'/'resources'/'box.urdf')\n",
    "robot_config = [NYUFingerDoubleConfig0(), NYUFingerDoubleConfig1()]\n",
    "params = get_default_params(object_urdf, robot_config)"
   ]
  },
  {
   "cell_type": "code",
   "execution_count": null,
   "metadata": {},
   "outputs": [],
   "source": [
    "# slide\n",
    "z = params.box_com_height\n",
    "desired_poses = [np.array([0, 0.0, z, 0, 0, 0]), \n",
    "                 np.array([0, 0.1, z, 0, 0, 0])]\n",
    "params = update_params(params, desired_poses)"
   ]
  },
  {
   "cell_type": "code",
   "execution_count": null,
   "metadata": {},
   "outputs": [],
   "source": [
    "# # lift\n",
    "# z = params.box_com_height\n",
    "# desired_poses = [np.array([0, 0.0, z, 0, 0, 0]),\n",
    "#                  np.array([0, 0.0, z + 0.1, 0, 0, 0])]\n",
    "# params = update_params(params, desired_poses)"
   ]
  },
  {
   "cell_type": "code",
   "execution_count": null,
   "metadata": {},
   "outputs": [],
   "source": [
    "# # rotate the cube twice\n",
    "# z = params.box_com_height\n",
    "# desired_poses = [np.array([0, 0.0, z, 0, 0, 0]), \n",
    "#                  np.array([0, 0.0, z, 0, 0, np.pi/2]),\n",
    "#                  np.array([0, 0.0, z, 0, 0, np.pi])]\n",
    "# params = update_params(params, desired_poses)"
   ]
  },
  {
   "cell_type": "code",
   "execution_count": null,
   "metadata": {},
   "outputs": [],
   "source": [
    "# # slide with curvature twice\n",
    "# z = params.box_com_height\n",
    "# desired_poses = [np.array([-0.05, 0., z, 0, 0, 0]), \n",
    "#                  np.array([0.05, 0., z, 0, 0, np.pi/3]),\n",
    "#                  np.array([0.05, -0.05, z, 0, 0, np.pi])]\n",
    "# params = update_params(params, desired_poses)"
   ]
  },
  {
   "cell_type": "code",
   "execution_count": null,
   "metadata": {},
   "outputs": [],
   "source": [
    "# # pivot about the y-axis by 45 degree\n",
    "# z = params.box_com_height\n",
    "# p = 0.05\n",
    "# rot = 30 * np.pi/ 180\n",
    "# th = rot + 45 * np.pi / 180\n",
    "# dx = p - np.cos(th) * np.sqrt(2) * p\n",
    "# dz = np.sin(th) * np.sqrt(2) * p - p\n",
    "\n",
    "# desired_poses = [np.array([0,  0., z     , 0, 0, 0]),\n",
    "#                  np.array([dx, 0., z + dz, 0, rot, 0])]\n",
    "# params = update_params(params, desired_poses)"
   ]
  },
  {
   "cell_type": "code",
   "execution_count": null,
   "metadata": {
    "scrolled": false
   },
   "outputs": [],
   "source": [
    "pose_init = pin.SE3ToXYZQUAT(params.desired_poses[0])\n",
    "box_pos = pose_init[:3]\n",
    "box_orn = pose_init[3:]\n",
    "env = FingerDoubleAndBox(params, box_pos, box_orn, server=pybullet.DIRECT)\n",
    "\n",
    "max_budget = 200\n",
    "mcts = PolicyValueMCTS(params, env)\n",
    "mcts.load_pvnet('../models/pvnet2')\n",
    "mcts.load_value_classifier('../models/value_classifier2')\n",
    "mcts.run(state=[[0, 0]], budget=max_budget, verbose=True)\n",
    "state, sol = mcts.get_solution()\n",
    "\n",
    "env.close()"
   ]
  },
  {
   "cell_type": "markdown",
   "metadata": {},
   "source": [
    "## Generate end-effector motion"
   ]
  },
  {
   "cell_type": "code",
   "execution_count": null,
   "metadata": {},
   "outputs": [],
   "source": [
    "dt_plan = 0.1\n",
    "dt_sim = 1e-3\n",
    "rest_locations, trajs, forces = generate_ee_motion(state, sol, dt_sim, dt_plan, params)"
   ]
  },
  {
   "cell_type": "markdown",
   "metadata": {},
   "source": [
    "## Simulate"
   ]
  },
  {
   "cell_type": "code",
   "execution_count": null,
   "metadata": {},
   "outputs": [],
   "source": [
    "ee_pos = [trajs[0][0][0], trajs[0][1][0]]\n",
    "box_pos = pin.SE3ToXYZQUAT(params.pose_start)[:3]\n",
    "box_orn = pin.SE3ToXYZQUAT(params.pose_start)[3:]\n",
    "\n",
    "env = FingerDoubleAndBox(params, box_pos, box_orn, ee_pos, pybullet.GUI)\n",
    "\n",
    "controller0 = ImpedanceController(np.diag([100]*3), np.diag([5.]*3), \n",
    "                                   env.finger0.pin_robot, env.ee0_id)\n",
    "controller1 = ImpedanceController(np.diag([100]*3), np.diag([5.]*3), \n",
    "                                   env.finger1.pin_robot, env.ee1_id)"
   ]
  },
  {
   "cell_type": "code",
   "execution_count": null,
   "metadata": {},
   "outputs": [],
   "source": [
    "for i in range(1, len(params.desired_poses)):\n",
    "    pose = params.desired_poses[i]\n",
    "    env.add_visual_frame(pose.translation, pose.rotation)"
   ]
  },
  {
   "cell_type": "code",
   "execution_count": null,
   "metadata": {},
   "outputs": [],
   "source": [
    "ee0_des, ee1_des = trajs[0][0][0], trajs[0][1][0]\n",
    "# Run the simulator for 2000 steps to move to the initial position\n",
    "for i in range(2000):\n",
    "    # update kinematic\n",
    "    q0, dq0 = env.finger0.get_state_update_pinocchio()\n",
    "    q1, dq1 = env.finger1.get_state_update_pinocchio()\n",
    "\n",
    "    # calculate torque\n",
    "    tau0 = controller0.compute_torque(q0, dq0, ee0_des, np.zeros(3), np.zeros(3))\n",
    "    tau1 = controller1.compute_torque(q1, dq1, ee1_des, np.zeros(3), np.zeros(3))\n",
    "\n",
    "    # send torque\n",
    "    env.finger0.send_joint_command(tau0)\n",
    "    env.finger1.send_joint_command(tau1)\n",
    "    \n",
    "    # Step the simulator.\n",
    "    env.step() "
   ]
  },
  {
   "cell_type": "code",
   "execution_count": null,
   "metadata": {},
   "outputs": [],
   "source": [
    "d = params.contact_duration\n",
    "for i in range(len(state)):\n",
    "    traj0, traj1 = trajs[i]\n",
    "    force0, force1 = forces[i]\n",
    "    N0 = len(traj0)\n",
    "    N1 = len(traj1)\n",
    "    for n in range(np.max((N0, N1))):\n",
    "        n0 = n if n < N0 else -1\n",
    "        n1 = n if n < N1 else -1\n",
    "        ee0_des = traj0[n0]\n",
    "        ee1_des = traj1[n1]\n",
    "\n",
    "        f0_des = force0[n0]\n",
    "        f1_des = force1[n1]\n",
    "\n",
    "        # update kinematic\n",
    "        q0, dq0 = env.finger0.get_state_update_pinocchio()\n",
    "        q1, dq1 = env.finger1.get_state_update_pinocchio()\n",
    "\n",
    "        # calculate torque\n",
    "        tau0 = controller0.compute_torque(q0, dq0, ee0_des, np.zeros(3), f0_des)\n",
    "        tau1 = controller1.compute_torque(q1, dq1, ee1_des, np.zeros(3), f1_des)\n",
    "\n",
    "        # send torque\n",
    "        env.finger0.send_joint_command(tau0)\n",
    "        env.finger1.send_joint_command(tau1)\n",
    "\n",
    "        # Step the simulator.\n",
    "        env.step(1)"
   ]
  },
  {
   "cell_type": "code",
   "execution_count": null,
   "metadata": {},
   "outputs": [],
   "source": [
    "env.close()"
   ]
  }
 ],
 "metadata": {
  "kernelspec": {
   "display_name": "Python 3",
   "language": "python",
   "name": "python3"
  },
  "language_info": {
   "codemirror_mode": {
    "name": "ipython",
    "version": 3
   },
   "file_extension": ".py",
   "mimetype": "text/x-python",
   "name": "python",
   "nbconvert_exporter": "python",
   "pygments_lexer": "ipython3",
   "version": "3.9.4"
  }
 },
 "nbformat": 4,
 "nbformat_minor": 4
}
