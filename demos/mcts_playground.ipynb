{
 "cells": [
  {
   "cell_type": "code",
   "execution_count": null,
   "metadata": {},
   "outputs": [],
   "source": [
    "%matplotlib inline\n",
    "%load_ext autoreload\n",
    "%autoreload 2"
   ]
  },
  {
   "cell_type": "code",
   "execution_count": null,
   "metadata": {},
   "outputs": [],
   "source": [
    "import os\n",
    "import time\n",
    "import pathlib\n",
    "project_path = pathlib.Path('.').absolute().parent\n",
    "python_path = project_path/'src'\n",
    "os.sys.path.insert(1, str(python_path))"
   ]
  },
  {
   "cell_type": "code",
   "execution_count": null,
   "metadata": {},
   "outputs": [],
   "source": [
    "from dotmap import DotMap\n",
    "import pybullet\n",
    "    \n",
    "import numpy as np\n",
    "import matplotlib.pyplot as plt\n",
    "import pinocchio as pin"
   ]
  },
  {
   "cell_type": "code",
   "execution_count": null,
   "metadata": {},
   "outputs": [],
   "source": [
    "from cto.trajectory import generate_random_poses\n",
    "from cto.mcts.pvmcts import PolicyValueMCTS\n",
    "from cto.mcts.pvnet import PolicyValueNet, ValueClassifier\n",
    "from cto.params import get_default_params, update_params\n",
    "from cto.contact_modes import construct_contact_plan\n",
    "from robot_properties_nyu_finger.config import NYUFingerDoubleConfig0, NYUFingerDoubleConfig1\n",
    "from cto.envs.fingers import FingerDoubleAndBox"
   ]
  },
  {
   "cell_type": "markdown",
   "metadata": {},
   "source": [
    "## Set up the problem"
   ]
  },
  {
   "cell_type": "code",
   "execution_count": null,
   "metadata": {},
   "outputs": [],
   "source": [
    "object_urdf = str(python_path/'cto'/'envs'/'resources'/'box.urdf')\n",
    "robot_config = [NYUFingerDoubleConfig0(), NYUFingerDoubleConfig1()]\n",
    "params = get_default_params(object_urdf, robot_config)"
   ]
  },
  {
   "cell_type": "markdown",
   "metadata": {},
   "source": [
    "### Generate different primitive object motions, uncoment to try"
   ]
  },
  {
   "cell_type": "code",
   "execution_count": null,
   "metadata": {},
   "outputs": [],
   "source": [
    "# slide\n",
    "z = params.box_com_height\n",
    "desired_poses = [np.array([0, 0.0, z, 0, 0, 0]), \n",
    "                 np.array([0, 0.1, z, 0, 0, 0])]\n",
    "params = update_params(params, desired_poses)"
   ]
  },
  {
   "cell_type": "code",
   "execution_count": null,
   "metadata": {},
   "outputs": [],
   "source": [
    "# # lift\n",
    "# z = params.box_com_height\n",
    "# desired_poses = [np.array([0, 0.0, z, 0, 0, 0]),\n",
    "#                  np.array([0, 0.0, z + 0.1, 0, 0, 0])]\n",
    "# params = update_params(params, desired_poses)"
   ]
  },
  {
   "cell_type": "code",
   "execution_count": null,
   "metadata": {},
   "outputs": [],
   "source": [
    "# # rotate twice\n",
    "# z = params.box_com_height\n",
    "# desired_poses = [np.array([0, 0.0, z, 0, 0, 0]), \n",
    "#                  np.array([0, 0.0, z, 0, 0, np.pi/2]),\n",
    "#                  np.array([0, 0.0, z, 0, 0, np.pi])]\n",
    "# params = update_params(params, desired_poses)"
   ]
  },
  {
   "cell_type": "code",
   "execution_count": null,
   "metadata": {},
   "outputs": [],
   "source": [
    "# # pivot about the y-axis by 30 degree\n",
    "# z = params.box_com_height\n",
    "# p = 0.05\n",
    "# rot = 30 * np.pi/ 180\n",
    "# th = rot + 45 * np.pi / 180\n",
    "# dx = p - np.cos(th) * np.sqrt(2) * p\n",
    "# dz = np.sin(th) * np.sqrt(2) * p - p\n",
    "\n",
    "# desired_poses = [np.array([0,  0.,  z, 0, 0, 0]),\n",
    "#                  np.array([dx, 0., z + dz, 0, rot, 0])]\n",
    "# params = update_params(params, desired_poses)"
   ]
  },
  {
   "cell_type": "code",
   "execution_count": null,
   "metadata": {},
   "outputs": [],
   "source": [
    "pose_init = pin.SE3ToXYZQUAT(params.desired_poses[0])\n",
    "box_pos = pose_init[:3]\n",
    "box_orn = pose_init[3:]\n",
    "env = FingerDoubleAndBox(params, box_pos, box_orn, server=pybullet.DIRECT)"
   ]
  },
  {
   "cell_type": "markdown",
   "metadata": {},
   "source": [
    "### Construct MCTS with trained and untrained models"
   ]
  },
  {
   "cell_type": "code",
   "execution_count": null,
   "metadata": {
    "scrolled": false
   },
   "outputs": [],
   "source": [
    "# untrained\n",
    "max_budget = 200\n",
    "mcts = PolicyValueMCTS(params, env)\n",
    "state = [[0, 0]]\n",
    "mcts.run(state, budget=max_budget, verbose=True)\n",
    "state, sol = mcts.get_solution()"
   ]
  },
  {
   "cell_type": "code",
   "execution_count": null,
   "metadata": {
    "scrolled": false
   },
   "outputs": [],
   "source": [
    "# trained\n",
    "max_budget = 200\n",
    "mcts = PolicyValueMCTS(params, env)\n",
    "state = [[0, 0]]\n",
    "mcts.load_pvnet('../models/pvnet2')\n",
    "mcts.load_value_classifier('../models/value_classifier2')\n",
    "\n",
    "mcts.run(state, budget=max_budget, verbose=True)\n",
    "state, sol = mcts.get_solution()"
   ]
  },
  {
   "cell_type": "markdown",
   "metadata": {},
   "source": [
    "## Compare the solution with the desired force/torque"
   ]
  },
  {
   "cell_type": "code",
   "execution_count": null,
   "metadata": {},
   "outputs": [],
   "source": [
    "total_force = np.zeros((len(sol.forces), 3))\n",
    "total_torque = np.zeros((len(sol.forces), 3))\n",
    "\n",
    "for n in range(len(sol.forces)):\n",
    "    total_force[n] = np.sum(sol.forces[n], axis=0)\n",
    "    total_torque[n] = np.sum(np.cross(sol.locations[n], sol.forces[n]), axis=0)"
   ]
  },
  {
   "cell_type": "code",
   "execution_count": null,
   "metadata": {},
   "outputs": [],
   "source": [
    "f, ax = plt.subplots(3, 1,figsize=(8, 12))\n",
    "axis_label = ['x','y','z']\n",
    "for i in range(3):\n",
    "    ax[i].plot(total_force[:, i], label=\"solution\")\n",
    "    ax[i].plot(params.traj_desired.total_force[:, i], ls='-.', label=\"ground truth\")\n",
    "    ax[i].set_xlabel(\"time step\")\n",
    "    ax[i].set_ylabel(\"force\" + axis_label[i]+' [N]')\n",
    "    ax[i].legend(loc='upper right')"
   ]
  },
  {
   "cell_type": "code",
   "execution_count": null,
   "metadata": {},
   "outputs": [],
   "source": [
    "f, ax = plt.subplots(3, 1,figsize=(8, 12))\n",
    "axis_label = ['x','y','z']\n",
    "for i in range(3):\n",
    "    ax[i].plot(total_torque[:, i], label=\"solution\")\n",
    "    ax[i].plot(params.traj_desired.total_torque[:, i], ls='-.', label=\"ground truth\")\n",
    "    ax[i].set_xlabel(\"time step\")\n",
    "    ax[i].set_ylabel(\"torque \" + axis_label[i]+' [Nm]')\n",
    "    ax[i].legend(loc='upper right')"
   ]
  },
  {
   "cell_type": "markdown",
   "metadata": {},
   "source": [
    "## Visualize the plan"
   ]
  },
  {
   "cell_type": "code",
   "execution_count": null,
   "metadata": {
    "scrolled": false
   },
   "outputs": [],
   "source": [
    "from cto.mcts.problems import integrate_solution\n",
    "traj_viz = integrate_solution(sol, params)\n",
    "box = params.box\n",
    "viz = pin.visualize.MeshcatVisualizer(\n",
    "    box.wrapper.model, box.wrapper.collision_model, box.wrapper.visual_model\n",
    ")\n",
    "viz.initViewer(open=False)\n",
    "viz.loadViewerModel()\n",
    "viz.viewer.jupyter_cell()"
   ]
  },
  {
   "cell_type": "code",
   "execution_count": null,
   "metadata": {},
   "outputs": [],
   "source": [
    "from cto.utils.meshcat import Arrow\n",
    "\n",
    "sleep_factor = 1\n",
    "\n",
    "arrows = []\n",
    "arrows.append(Arrow(viz.viewer, \"force0\", length_scale=0.08, color=0x0000ff))\n",
    "arrows.append(Arrow(viz.viewer, \"force1\", length_scale=0.08, color=0x00ff00))\n",
    "arrows.append(Arrow(viz.viewer, \"force2\", length_scale=0.08, color=0xff0000))\n",
    "arrows.append(Arrow(viz.viewer, \"force3\", length_scale=0.08, color=0xff0000))\n",
    "arrows.append(Arrow(viz.viewer, \"force4\", length_scale=0.08, color=0xff0000))\n",
    "arrows.append(Arrow(viz.viewer, \"force5\", length_scale=0.08, color=0xff0000))\n",
    "\n",
    "for n in range(params.horizon):\n",
    "    viz.display(traj_viz.q[n])\n",
    "    q = traj_viz.q\n",
    "    curr_pose = pin.XYZQUATToSE3(q[n])\n",
    "    p = curr_pose.translation\n",
    "    R = curr_pose.rotation\n",
    "    for i in range(len(arrows)):\n",
    "        if i < len(sol.forces[n]):\n",
    "            force_world = R @ sol.forces[n][i]\n",
    "            location_world = p + R @ sol.locations[n][i]\n",
    "            arrows[i].anchor_as_vector(location_world, force_world)\n",
    "        else:\n",
    "            arrows[i].anchor_as_vector([0, 0, 0], [0, 0, 0])\n",
    "    time.sleep(sleep_factor * params.dt)"
   ]
  }
 ],
 "metadata": {
  "kernelspec": {
   "display_name": "Python 3",
   "language": "python",
   "name": "python3"
  },
  "language_info": {
   "codemirror_mode": {
    "name": "ipython",
    "version": 3
   },
   "file_extension": ".py",
   "mimetype": "text/x-python",
   "name": "python",
   "nbconvert_exporter": "python",
   "pygments_lexer": "ipython3",
   "version": "3.9.4"
  }
 },
 "nbformat": 4,
 "nbformat_minor": 4
}
