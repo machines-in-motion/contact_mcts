{
 "cells": [
  {
   "cell_type": "code",
   "execution_count": null,
   "metadata": {},
   "outputs": [],
   "source": [
    "%matplotlib inline\n",
    "%load_ext autoreload\n",
    "%autoreload 2"
   ]
  },
  {
   "cell_type": "code",
   "execution_count": null,
   "metadata": {},
   "outputs": [],
   "source": [
    "import os\n",
    "import pathlib\n",
    "project_path = pathlib.Path('.').absolute().parent\n",
    "python_path = project_path/'src'\n",
    "os.sys.path.insert(1, str(python_path))"
   ]
  },
  {
   "cell_type": "code",
   "execution_count": null,
   "metadata": {},
   "outputs": [],
   "source": [
    "from dotmap import DotMap\n",
    "from tqdm.notebook import trange\n",
    "import torch\n",
    "    \n",
    "import numpy as np\n",
    "import pinocchio as pin\n",
    "import pybullet\n",
    "import matplotlib.pyplot as plt"
   ]
  },
  {
   "cell_type": "code",
   "execution_count": null,
   "metadata": {},
   "outputs": [],
   "source": [
    "from cto.objects import Cube\n",
    "from cto.envs.fingers import FingerDoubleAndBox\n",
    "from cto.mcts.pvmcts import PolicyValueMCTS\n",
    "from cto.trajectory import generate_random_poses\n",
    "from cto.params import get_default_params, update_params\n",
    "from robot_properties_nyu_finger.config import NYUFingerDoubleConfig0, NYUFingerDoubleConfig1\n",
    "from cto.exp import random_poses_composite"
   ]
  },
  {
   "cell_type": "code",
   "execution_count": null,
   "metadata": {},
   "outputs": [],
   "source": [
    "object_urdf = str(python_path/'cto'/'envs'/'resources'/'box.urdf')\n",
    "robot_config = [NYUFingerDoubleConfig0(), NYUFingerDoubleConfig1()]\n",
    "params = get_default_params(object_urdf, robot_config)"
   ]
  },
  {
   "cell_type": "code",
   "execution_count": null,
   "metadata": {
    "scrolled": false
   },
   "outputs": [],
   "source": [
    "states = []\n",
    "values = []\n",
    "action_probs = []\n",
    "goals = []\n",
    "eps = 1e-3\n",
    "failed_tasks = []\n",
    "all_tasks = []\n",
    "\n",
    "ntasks = 300\n",
    "n_desired_poses = 2\n",
    "max_budget = 200\n",
    "\n",
    "for i in trange(ntasks):\n",
    "    if i < 200:\n",
    "        motion = 'sc'\n",
    "    elif 200 <= i < 250:\n",
    "        motion = 'scl'\n",
    "    elif 250 <= i < 300:\n",
    "        motion = 'scp'\n",
    "    desired_poses = random_poses_composite(params, n_desired_poses, motion)\n",
    "    all_tasks.append(desired_poses)\n",
    "    params = update_params(params, desired_poses)\n",
    "    pose_init = pin.SE3ToXYZQUAT(params.desired_poses[0])\n",
    "    box_pos = pose_init[:3]\n",
    "    box_orn = pose_init[3:]\n",
    "    env = FingerDoubleAndBox(params, box_pos, box_orn, server=pybullet.DIRECT)\n",
    "    \n",
    "    mcts = PolicyValueMCTS(params, env)\n",
    "    mcts.train(state=[[0, 0]], budget=max_budget, verbose=False)\n",
    "    best_state, _  = mcts.get_solution()\n",
    "    \n",
    "    if best_state is None:\n",
    "        print('failed')\n",
    "        failed_tasks.append(desired_poses)\n",
    "    else:\n",
    "        states += mcts.get_data()[0]\n",
    "        values += mcts.get_data()[1]\n",
    "        action_probs += mcts.get_data()[2]\n",
    "        goals += mcts.get_data()[3]\n",
    "    env.close()"
   ]
  },
  {
   "cell_type": "code",
   "execution_count": null,
   "metadata": {},
   "outputs": [],
   "source": [
    "from cto.mcts.pvmcts import MCTSDataset\n",
    "data = MCTSDataset(states, values, action_probs, goals)\n",
    "torch.save(data, '../data/data')"
   ]
  },
  {
   "cell_type": "code",
   "execution_count": null,
   "metadata": {},
   "outputs": [],
   "source": [
    "# visualize the failed tasks on the x-y plane\n",
    "if len(failed_tasks) > 0:\n",
    "    plt.scatter(np.vstack(failed_tasks)[:,0], np.vstack(failed_tasks)[:,1])"
   ]
  }
 ],
 "metadata": {
  "kernelspec": {
   "display_name": "Python 3",
   "language": "python",
   "name": "python3"
  },
  "language_info": {
   "codemirror_mode": {
    "name": "ipython",
    "version": 3
   },
   "file_extension": ".py",
   "mimetype": "text/x-python",
   "name": "python",
   "nbconvert_exporter": "python",
   "pygments_lexer": "ipython3",
   "version": "3.9.4"
  }
 },
 "nbformat": 4,
 "nbformat_minor": 4
}
