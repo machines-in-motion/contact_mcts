{
 "cells": [
  {
   "cell_type": "code",
   "execution_count": null,
   "metadata": {},
   "outputs": [],
   "source": [
    "%matplotlib inline\n",
    "%load_ext autoreload\n",
    "%autoreload 2"
   ]
  },
  {
   "cell_type": "code",
   "execution_count": null,
   "metadata": {},
   "outputs": [],
   "source": [
    "import os\n",
    "import time\n",
    "import pathlib\n",
    "project_path = pathlib.Path('.').absolute().parent\n",
    "python_path = project_path/'src'\n",
    "os.sys.path.insert(1, str(python_path))"
   ]
  },
  {
   "cell_type": "code",
   "execution_count": null,
   "metadata": {},
   "outputs": [],
   "source": [
    "import torch\n",
    "import torch.nn as nn\n",
    "import torch.nn.functional as F\n",
    "import numpy as np\n",
    "import time\n",
    "from tqdm.notebook import tqdm\n",
    "import matplotlib.pyplot as plt"
   ]
  },
  {
   "cell_type": "code",
   "execution_count": null,
   "metadata": {},
   "outputs": [],
   "source": [
    "from torch.nn.utils.rnn import pack_padded_sequence\n",
    "from torch.nn.utils.rnn import pad_sequence\n",
    "from torch.utils.data import DataLoader\n",
    "\n",
    "from cto.mcts.pvnet import PolicyValueNet, ValueClassifier\n",
    "from cto.mcts.pvmcts import MCTSDataset"
   ]
  },
  {
   "cell_type": "markdown",
   "metadata": {},
   "source": [
    "## Load and preprocess data"
   ]
  },
  {
   "cell_type": "code",
   "execution_count": null,
   "metadata": {},
   "outputs": [],
   "source": [
    "data = torch.load('../data/data')\n",
    "device = torch.device('cuda:0' if torch.cuda.is_available() else 'cpu')"
   ]
  },
  {
   "cell_type": "code",
   "execution_count": null,
   "metadata": {},
   "outputs": [],
   "source": [
    "states = []\n",
    "values = []\n",
    "action_probs = []\n",
    "goals = []\n",
    "\n",
    "for s, v, p, g in data:\n",
    "    states.append(s)\n",
    "    action_probs.append(p)\n",
    "    goals.append(g)\n",
    "    if v > 0:\n",
    "        values.append(1)\n",
    "    else:\n",
    "        values.append(0)\n",
    "        \n",
    "data_classifier = MCTSDataset(states, values, action_probs, goals)"
   ]
  },
  {
   "cell_type": "code",
   "execution_count": null,
   "metadata": {},
   "outputs": [],
   "source": [
    "states = []\n",
    "values = []\n",
    "action_probs = []\n",
    "goals = []\n",
    "\n",
    "for s, v, p, g in data:\n",
    "    if v > 0:\n",
    "        states.append(s)\n",
    "        values.append(v)\n",
    "        action_probs.append(p)\n",
    "        goals.append(g)\n",
    "        \n",
    "data_pvnet = MCTSDataset(states, values, action_probs, goals)"
   ]
  },
  {
   "cell_type": "code",
   "execution_count": null,
   "metadata": {},
   "outputs": [],
   "source": [
    "n_train_classifier = int(0.9*len(data_classifier))\n",
    "n_test_classifier = len(data_classifier) - n_train_classifier\n",
    "train_data_classifier, test_data_classifier = torch.utils.data.random_split(data_classifier, \n",
    "                                                                            [n_train_classifier, \n",
    "                                                                             n_test_classifier])\n",
    "\n",
    "n_train_pvnet = int(0.9*len(data_pvnet))\n",
    "n_test_pvnet = len(data_pvnet) - n_train_pvnet\n",
    "train_data_pvnet, test_data_pvnet = torch.utils.data.random_split(data_pvnet, \n",
    "                                                                  [n_train_pvnet, \n",
    "                                                                   n_test_pvnet])"
   ]
  },
  {
   "cell_type": "code",
   "execution_count": null,
   "metadata": {},
   "outputs": [],
   "source": [
    "from cto.mcts.pvnet import pad_collate\n",
    "\n",
    "train_loader_classifier = DataLoader(train_data_classifier, batch_size=128, \n",
    "                                      shuffle=True, collate_fn=pad_collate)\n",
    "train_loader_pvnet = DataLoader(train_data_pvnet, batch_size=128, \n",
    "                              shuffle=True, collate_fn=pad_collate)"
   ]
  },
  {
   "cell_type": "markdown",
   "metadata": {},
   "source": [
    "## Training"
   ]
  },
  {
   "cell_type": "code",
   "execution_count": null,
   "metadata": {},
   "outputs": [],
   "source": [
    "value_classifier = ValueClassifier().to(device)\n",
    "optimizer = torch.optim.Adam(value_classifier.parameters())\n",
    "value_classifier.train()\n",
    "\n",
    "class_ratio = (len(train_data_classifier) - len(train_data_pvnet)) / len(train_data_pvnet)\n",
    "bce_loss = nn.BCEWithLogitsLoss(pos_weight=torch.tensor([class_ratio]).to(device))\n",
    "tepoch = tqdm(range(300))\n",
    "\n",
    "for epoch in tepoch:\n",
    "    running_loss = 0\n",
    "    n_batches = 0\n",
    "    \n",
    "    for padded_state, state_length, v, p, g in train_loader_classifier:\n",
    "        optimizer.zero_grad()\n",
    "        packed_state = pack_padded_sequence(padded_state, state_length, \n",
    "                                            enforce_sorted=False, batch_first=True)\n",
    "        y_pred = value_classifier(packed_state.to(device).float(), \n",
    "                                  g.to(device).float())\n",
    "        loss = bce_loss(y_pred, v.to(device).float())\n",
    "        loss.backward()\n",
    "        optimizer.step()\n",
    "        running_loss += loss.item()\n",
    "        n_batches += 1\n",
    "        \n",
    "    tepoch.set_postfix(epoch_loss=running_loss/n_batches)"
   ]
  },
  {
   "cell_type": "code",
   "execution_count": null,
   "metadata": {},
   "outputs": [],
   "source": [
    "pvnet = PolicyValueNet().to(device)\n",
    "optimizer = torch.optim.Adam(pvnet.parameters())\n",
    "pvnet.train()\n",
    "tepoch = tqdm(range(300))\n",
    "\n",
    "for epoch in tepoch:\n",
    "    running_loss = 0\n",
    "    n_batches = 0\n",
    "    for padded_state, state_length, v, p, g in train_loader_pvnet:\n",
    "        optimizer.zero_grad()\n",
    "        packed_state = pack_padded_sequence(padded_state, state_length, \n",
    "                                            enforce_sorted=False, batch_first=True)\n",
    "        pi_pred, v_pred = pvnet(packed_state.to(device).float(), g.to(device).float())\n",
    "        value_loss = F.mse_loss(v.to(device).float(), v_pred)\n",
    "        policy_loss = -torch.mean(torch.sum(p.to(device) * pi_pred, 1))\n",
    "        loss = value_loss + policy_loss\n",
    "        loss.backward()\n",
    "        optimizer.step()\n",
    "        running_loss += loss.item()\n",
    "        n_batches += 1\n",
    "    tepoch.set_postfix(epoch_loss=running_loss/n_batches)"
   ]
  },
  {
   "cell_type": "markdown",
   "metadata": {},
   "source": [
    "## Testing"
   ]
  },
  {
   "cell_type": "code",
   "execution_count": null,
   "metadata": {},
   "outputs": [],
   "source": [
    "value_classifier.eval()\n",
    "Y = []\n",
    "Y_pred = []\n",
    "\n",
    "for s, v, p, g in test_data_classifier:\n",
    "    s = torch.tensor(s)[None, :, :].to(device).float()\n",
    "    g = torch.tensor(g)[None, :].to(device).float()\n",
    "    y_pred = torch.sigmoid(value_classifier(s, g))\n",
    "    y_pred = np.squeeze((y_pred.detach().cpu().numpy()))\n",
    "    Y.append(v)\n",
    "    Y_pred.append(y_pred)\n",
    "Y_pred = np.array(Y_pred)\n",
    "Y = np.array(Y)\n",
    "class0 = Y_pred[Y==0]\n",
    "class1 = Y_pred[Y==1]"
   ]
  },
  {
   "cell_type": "code",
   "execution_count": null,
   "metadata": {},
   "outputs": [],
   "source": [
    "# compute confusion to fine tune the threshold if needed\n",
    "# high TN -> prune infeasible traj. more aggresively\n",
    "th = 0.5\n",
    "print('True negative:', len(class0[class0 <= th]) / len(class0))\n",
    "print('False negative:', len(class1[class1 <= th]) / len(class1))\n",
    "print('True positive:', len(class1[class1 >= th]) / len(class1))\n",
    "print('False positive:', len(class0[class0 >= th]) / len(class0))"
   ]
  },
  {
   "cell_type": "code",
   "execution_count": null,
   "metadata": {},
   "outputs": [],
   "source": [
    "# visualize the regression results\n",
    "pvnet.eval()\n",
    "V = []\n",
    "V_pred = []\n",
    "for s, v, p, g in test_data_pvnet:\n",
    "    s = torch.tensor(s)[None, :, :].to(device).float()\n",
    "    g = torch.tensor(g)[None, :].to(device).float()\n",
    "    pi_pred, v_pred = pvnet(s, g)\n",
    "    v_pred = np.squeeze((v_pred.detach().cpu().numpy()))\n",
    "    V.append(v)\n",
    "    V_pred.append(v_pred)"
   ]
  },
  {
   "cell_type": "code",
   "execution_count": null,
   "metadata": {},
   "outputs": [],
   "source": [
    "plt.scatter(V, V_pred)"
   ]
  },
  {
   "cell_type": "markdown",
   "metadata": {},
   "source": [
    "## Save the trained models"
   ]
  },
  {
   "cell_type": "code",
   "execution_count": null,
   "metadata": {},
   "outputs": [],
   "source": [
    "torch.save(value_classifier.state_dict(), '../models/value_classifier')\n",
    "torch.save(pvnet.state_dict(), '../models/pvnet')"
   ]
  }
 ],
 "metadata": {
  "kernelspec": {
   "display_name": "Python 3",
   "language": "python",
   "name": "python3"
  },
  "language_info": {
   "codemirror_mode": {
    "name": "ipython",
    "version": 3
   },
   "file_extension": ".py",
   "mimetype": "text/x-python",
   "name": "python",
   "nbconvert_exporter": "python",
   "pygments_lexer": "ipython3",
   "version": "3.9.4"
  }
 },
 "nbformat": 4,
 "nbformat_minor": 4
}
