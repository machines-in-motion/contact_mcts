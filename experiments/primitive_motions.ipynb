{
 "cells": [
  {
   "cell_type": "code",
   "execution_count": null,
   "metadata": {},
   "outputs": [],
   "source": [
    "%matplotlib inline\n",
    "%load_ext autoreload\n",
    "%autoreload 2"
   ]
  },
  {
   "cell_type": "code",
   "execution_count": null,
   "metadata": {},
   "outputs": [],
   "source": [
    "import os\n",
    "import time\n",
    "import pathlib\n",
    "project_path = pathlib.Path('.').absolute().parent\n",
    "python_path = project_path/'src'\n",
    "os.sys.path.insert(1, str(python_path))"
   ]
  },
  {
   "cell_type": "code",
   "execution_count": null,
   "metadata": {},
   "outputs": [],
   "source": [
    "import torch\n",
    "from cto.objects import Cube\n",
    "from cto.mcts.pvnet import PolicyValueNet, ValueClassifier\n",
    "from cto.exp import print_metrics\n",
    "from cto.exp import exp_primitive\n",
    "from robot_properties_nyu_finger.config import NYUFingerDoubleConfig0, NYUFingerDoubleConfig1"
   ]
  },
  {
   "cell_type": "markdown",
   "metadata": {},
   "source": [
    "## Set up parameters"
   ]
  },
  {
   "cell_type": "code",
   "execution_count": null,
   "metadata": {},
   "outputs": [],
   "source": [
    "object_urdf = str(python_path/'cto'/'envs'/'resources'/'box.urdf')\n",
    "robot_config = [NYUFingerDoubleConfig0(), NYUFingerDoubleConfig1()]"
   ]
  },
  {
   "cell_type": "markdown",
   "metadata": {},
   "source": [
    "## Load networks"
   ]
  },
  {
   "cell_type": "code",
   "execution_count": null,
   "metadata": {},
   "outputs": [],
   "source": [
    "# trained networks\n",
    "device = torch.device('cpu')\n",
    "pvnet = PolicyValueNet()\n",
    "pvnet.load_state_dict(torch.load('../models/pvnet2', \n",
    "                                 map_location=device))\n",
    "value_classifier = ValueClassifier()\n",
    "value_classifier.load_state_dict(torch.load('../models/value_classifier2', \n",
    "                                            map_location=device))\n",
    "trained_networks = [pvnet, value_classifier]"
   ]
  },
  {
   "cell_type": "markdown",
   "metadata": {},
   "source": [
    "## Run experiments"
   ]
  },
  {
   "cell_type": "code",
   "execution_count": null,
   "metadata": {
    "scrolled": false
   },
   "outputs": [],
   "source": [
    "primitives = ['s', 'l', 'r', 'sc', 'p']\n",
    "for p in primitives:\n",
    "    results = exp_primitive(p, object_urdf, robot_config, trained_networks,\n",
    "                            n_trials=50, mcts_iter=100)\n",
    "    print('________________________________')\n",
    "    print('results for primitive: ', p)\n",
    "    print_metrics(results)\n",
    "    print('________________________________')"
   ]
  }
 ],
 "metadata": {
  "kernelspec": {
   "display_name": "Python 3",
   "language": "python",
   "name": "python3"
  },
  "language_info": {
   "codemirror_mode": {
    "name": "ipython",
    "version": 3
   },
   "file_extension": ".py",
   "mimetype": "text/x-python",
   "name": "python",
   "nbconvert_exporter": "python",
   "pygments_lexer": "ipython3",
   "version": "3.9.4"
  }
 },
 "nbformat": 4,
 "nbformat_minor": 4
}
